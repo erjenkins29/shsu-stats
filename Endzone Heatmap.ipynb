{
 "cells": [
  {
   "cell_type": "markdown",
   "metadata": {
    "deletable": true,
    "editable": true
   },
   "source": [
    "## Endzone Heatmap subproject\n",
    "\n",
    "\n",
    "- columns: thrower, receiver, $x_{thrower}$,$y_{thrower}$,$x_{receiver}$,$y_{receiver}$"
   ]
  },
  {
   "cell_type": "code",
   "execution_count": 1,
   "metadata": {
    "collapsed": false
   },
   "outputs": [
    {
     "name": "stdout",
     "output_type": "stream",
     "text": [
      "Populating the interactive namespace from numpy and matplotlib\n"
     ]
    }
   ],
   "source": [
    "%pylab inline\n",
    "import pandas as pd\n",
    "\n",
    "prefix = \"SUIS-Wolves/Passes vs. \"\n",
    "opponents = [\"Nanmo Lions 2017-03-17_16-00.csv\", \"Dwight Qibao Cheetahs 2017-03-11_13-40.csv\",\n",
    "             \"Dwight Qibao Cheetahs 2017-02-24_16-15.csv\", \"KCIS Gators 2017-03-11_11-30.csv\", \n",
    "             \"PingHe Dogs 2017-03-03_16-00.csv\", \"YewWah Dogs 2017-03-11_09-15.csv\",\n",
    "             \"YKPao Buddha 2017-03-11_12-30.csv\", \"YKPao Buddha 2017-03-11_14-30.csv\"]\n",
    "files = [prefix + opponent for opponent in opponents]"
   ]
  },
  {
   "cell_type": "code",
   "execution_count": 13,
   "metadata": {
    "collapsed": true
   },
   "outputs": [],
   "source": [
    "df = pd.read_csv(files[5])"
   ]
  },
  {
   "cell_type": "code",
   "execution_count": 16,
   "metadata": {
    "collapsed": false
   },
   "outputs": [],
   "source": [
    "df_assists = df[df.iloc[:,9]==1].iloc[:,(3,4,19,20,21,22)]"
   ]
  },
  {
   "cell_type": "code",
   "execution_count": 34,
   "metadata": {
    "collapsed": false,
    "deletable": true,
    "editable": true
   },
   "outputs": [
    {
     "data": {
      "text/plain": [
       "<matplotlib.text.Text at 0x88f8d30>"
      ]
     },
     "execution_count": 34,
     "metadata": {},
     "output_type": "execute_result"
    },
    {
     "data": {
      "image/png": "[encoded data removed]",
      "text/plain": [
       "<matplotlib.figure.Figure at 0x955f748>"
      ]
     },
     "metadata": {},
     "output_type": "display_data"
    }
   ],
   "source": [
    "i=1\n",
    "\n",
    "for assist in df_assists.iterrows():\n",
    "\n",
    "    plt.subplot(2, 7, i)\n",
    "    plt.plot([assist[1][2], assist[1][4]], [assist[1][3], assist[1][5]])\n",
    "    plt.plot([assist[1][2]],[assist[1][3]], 'bo')\n",
    "    plt.plot([assist[1][4]], [assist[1][5]], 'ro')\n",
    "    plt.xticks([]);plt.yticks([])\n",
    "    plt.xlim(0,1);plt.ylim(0,1)\n",
    "\n",
    "    ## endzones\n",
    "    normalized_line = 25. / (25+70+25)  ## normalized between 0 and 1, like the X-Y coordinates\n",
    "    plt.plot([0,1],[normalized_line,normalized_line],'r')\n",
    "    plt.plot([0,1],[1-normalized_line,1-normalized_line],'r')\n",
    "    i+=1\n",
    "\n"
   ]
  },
  {
   "cell_type": "code",
   "execution_count": 32,
   "metadata": {
    "collapsed": false,
    "deletable": true,
    "editable": true
   },
   "outputs": [],
   "source": [
    "renamedict = dict(zip(df_assists.columns,[\"thrower\",\"receiver\",\"x_T\",\"y_T\",\"x_R\",\"y_R\"]))\n",
    "df_assists = df_assists.rename(columns=renamedict)"
   ]
  },
  {
   "cell_type": "code",
   "execution_count": 33,
   "metadata": {
    "collapsed": false,
    "deletable": true,
    "editable": true
   },
   "outputs": [
    {
     "data": {
      "text/html": [
       "<div>\n",
       "<table border=\"1\" class=\"dataframe\">\n",
       "  <thead>\n",
       "    <tr style=\"text-align: right;\">\n",
       "      <th></th>\n",
       "      <th>thrower</th>\n",
       "      <th>receiver</th>\n",
       "      <th>x_T</th>\n",
       "      <th>y_T</th>\n",
       "      <th>x_R</th>\n",
       "      <th>y_R</th>\n",
       "    </tr>\n",
       "  </thead>\n",
       "  <tbody>\n",
       "    <tr>\n",
       "      <th>16</th>\n",
       "      <td>#22 Paul Simpson</td>\n",
       "      <td>Jamie Chen</td>\n",
       "      <td>0.000000</td>\n",
       "      <td>0.664604</td>\n",
       "      <td>0.104027</td>\n",
       "      <td>0.111386</td>\n",
       "    </tr>\n",
       "    <tr>\n",
       "      <th>17</th>\n",
       "      <td>#22 Paul Simpson</td>\n",
       "      <td>Joyce Wang</td>\n",
       "      <td>0.536913</td>\n",
       "      <td>0.250000</td>\n",
       "      <td>0.963087</td>\n",
       "      <td>0.092822</td>\n",
       "    </tr>\n",
       "    <tr>\n",
       "      <th>21</th>\n",
       "      <td>#22 Paul Simpson</td>\n",
       "      <td>Joyce Wang</td>\n",
       "      <td>0.510067</td>\n",
       "      <td>0.253713</td>\n",
       "      <td>0.251678</td>\n",
       "      <td>0.113861</td>\n",
       "    </tr>\n",
       "    <tr>\n",
       "      <th>27</th>\n",
       "      <td>#69 Justin Chen</td>\n",
       "      <td>#27 Daniel Zhang</td>\n",
       "      <td>0.882550</td>\n",
       "      <td>0.293317</td>\n",
       "      <td>0.882550</td>\n",
       "      <td>0.058168</td>\n",
       "    </tr>\n",
       "    <tr>\n",
       "      <th>37</th>\n",
       "      <td>Cecilia Wu</td>\n",
       "      <td>#69 Justin Chen</td>\n",
       "      <td>0.708054</td>\n",
       "      <td>0.231436</td>\n",
       "      <td>0.758389</td>\n",
       "      <td>0.077970</td>\n",
       "    </tr>\n",
       "    <tr>\n",
       "      <th>42</th>\n",
       "      <td>Jamie Chen</td>\n",
       "      <td>Melody Zheng</td>\n",
       "      <td>0.244966</td>\n",
       "      <td>0.231436</td>\n",
       "      <td>0.208054</td>\n",
       "      <td>0.084158</td>\n",
       "    </tr>\n",
       "    <tr>\n",
       "      <th>46</th>\n",
       "      <td>#27 Daniel Zhang</td>\n",
       "      <td>Jamie Chen</td>\n",
       "      <td>0.604027</td>\n",
       "      <td>0.285891</td>\n",
       "      <td>0.664430</td>\n",
       "      <td>0.100248</td>\n",
       "    </tr>\n",
       "    <tr>\n",
       "      <th>61</th>\n",
       "      <td>#69 Justin Chen</td>\n",
       "      <td>Tina Zhu</td>\n",
       "      <td>0.805369</td>\n",
       "      <td>0.327970</td>\n",
       "      <td>0.852349</td>\n",
       "      <td>0.069307</td>\n",
       "    </tr>\n",
       "  </tbody>\n",
       "</table>\n",
       "</div>"
      ],
      "text/plain": [
       "             thrower          receiver       x_T       y_T       x_R       y_R\n",
       "16  #22 Paul Simpson        Jamie Chen  0.000000  0.664604  0.104027  0.111386\n",
       "17  #22 Paul Simpson        Joyce Wang  0.536913  0.250000  0.963087  0.092822\n",
       "21  #22 Paul Simpson        Joyce Wang  0.510067  0.253713  0.251678  0.113861\n",
       "27   #69 Justin Chen  #27 Daniel Zhang  0.882550  0.293317  0.882550  0.058168\n",
       "37        Cecilia Wu   #69 Justin Chen  0.708054  0.231436  0.758389  0.077970\n",
       "42        Jamie Chen      Melody Zheng  0.244966  0.231436  0.208054  0.084158\n",
       "46  #27 Daniel Zhang        Jamie Chen  0.604027  0.285891  0.664430  0.100248\n",
       "61   #69 Justin Chen          Tina Zhu  0.805369  0.327970  0.852349  0.069307"
      ]
     },
     "execution_count": 33,
     "metadata": {},
     "output_type": "execute_result"
    }
   ],
   "source": [
    "df_assists"
   ]
  },
  {
   "cell_type": "code",
   "execution_count": 6,
   "metadata": {
    "collapsed": true,
    "deletable": true,
    "editable": true
   },
   "outputs": [],
   "source": [
    "from seaborn import heatmap"
   ]
  },
  {
   "cell_type": "code",
   "execution_count": 7,
   "metadata": {
    "collapsed": false,
    "deletable": true,
    "editable": true,
    "scrolled": false
   },
   "outputs": [
    {
     "data": {
      "text/plain": [
       "<matplotlib.axes._subplots.AxesSubplot at 0xa4295c0>"
      ]
     },
     "execution_count": 7,
     "metadata": {},
     "output_type": "execute_result"
    },
    {
     "data": {
      "image/png": "[encoded data removed]",
      "text/plain": [
       "<matplotlib.figure.Figure at 0xa373ef0>"
      ]
     },
     "metadata": {},
     "output_type": "display_data"
    }
   ],
   "source": [
    "heatmap(data=df_assists.loc[:,[\"x_T\",\"y_T\"]], )"
   ]
  },
  {
   "cell_type": "markdown",
   "metadata": {
    "deletable": true,
    "editable": true
   },
   "source": [
    "The plot above demonstrates that the heatmap function will take a matrix of values and then plot appropriate colors according to the max-min values of the matrix.  We'll first need to summarize values in a 3x2 grid of the endzone first, and then put that into the heatmap plot.\n",
    "\n",
    "### Suggestion for how to proceed:\n",
    "\n",
    "1. create an abstract function labeling the portions of the endzone of interest, taking x-y as input.  We'll vectorize that function over all rows, and create a new column (pd.Series type) for this label.  Call this Series \"endzone_partition\", and ensure labels are logically named so that sorting is possible, for example \"(2,3)\" \n",
    "2. count all values for the endzone partition -- use pd.Series.value_counts(), indexed by endzone_partition\n",
    "3. sort values of result from (2) by the index -- use pd.Series.sort_index()\n",
    "4. reshape the resultant Series by how the endzone is shaped, forming a matrix -- use np.reshape(Series)\n",
    "5. plot heatmap over this matrix -- use seaborn.heatmap()"
   ]
  },
  {
   "cell_type": "code",
   "execution_count": 26,
   "metadata": {
    "collapsed": false,
    "deletable": true,
    "editable": true
   },
   "outputs": [
    {
     "name": "stdout",
     "output_type": "stream",
     "text": [
      "labeled endzone regions:\n",
      "\n",
      "0    (0, 2)\n",
      "1    (0, 0)\n",
      "2    (0, 1)\n",
      "3    (0, 0)\n",
      "4    (0, 2)\n",
      "5    (0, 0)\n",
      "6    (0, 2)\n",
      "7    (0, 2)\n",
      "Name: endzone_partition, dtype: object\n"
     ]
    }
   ],
   "source": [
    "## step 1: create a partitioning function, vectorize this over the DataFrame of x-y goal coordinates\n",
    "\n",
    "def endzone_partition(x,y):\n",
    "    \"\"\" input:  (x,y) coordinate of the location where the goal was caught\n",
    "        output: endzone partition that (x,y) belongs to \n",
    "    \"\"\"\n",
    "    # left to right: 0 -> 0.333333; 0.333333 -> 0.666667; 0.666667 -> 1\n",
    "    # front to back: 0.791667 -> 0.9; 0.9 -> 1\n",
    "    # front of endzone\n",
    "    # ----------------------------\n",
    "    # | (0, 0) | (0, 1) | (0, 2) |\n",
    "    # ----------------------------\n",
    "    # | (1, 0) | (1, 1) | (1, 2) |\n",
    "    # ----------------------------\n",
    "    # back of endzone\n",
    "    \n",
    "    if y < 0.9:\n",
    "        if x < 0.333333:\n",
    "            return (0, 0)\n",
    "        elif x < 0.666667:\n",
    "            return (0, 1)\n",
    "        else:\n",
    "            return (0, 2)\n",
    "    else:\n",
    "        if x < 0.333333:\n",
    "            return (1, 0)\n",
    "        elif x < 0.666667:\n",
    "            return (1, 1)\n",
    "        else:\n",
    "            return (1, 2)\n",
    "\n",
    "def endzone_partition_for_lists(x):\n",
    "    \"\"\" wrapper function for endzone_partition, where the input is a length=2 list-type \n",
    "        object (including pd.Series, numpy.array).  Necessary for vectorizing the calculations\n",
    "    \"\"\"\n",
    "    \n",
    "    return endzone_partition(x[0],x[1])\n",
    "\n",
    "\n",
    "df_assists[\"endzone_partition\"] = df_assists.loc[:,[\"x_R\",\"y_R\"]].apply(endzone_partition_for_lists, axis=1)\n",
    "print \"labeled endzone regions:\\n\\n\",df_assists[\"endzone_partition\"]"
   ]
  },
  {
   "cell_type": "code",
   "execution_count": 43,
   "metadata": {
    "collapsed": false,
    "scrolled": true
   },
   "outputs": [
    {
     "name": "stdout",
     "output_type": "stream",
     "text": [
      "raw counts:\n",
      "\n",
      "(0, 2)    4\n",
      "(0, 0)    3\n",
      "(0, 1)    1\n",
      "Name: endzone_partition, dtype: int64\n",
      "\n",
      "after forcing an index:\n",
      "\n",
      "(0, 0)    3\n",
      "(0, 1)    1\n",
      "(0, 2)    4\n",
      "(1, 0)    0\n",
      "(1, 1)    0\n",
      "(1, 2)    0\n",
      "Name: endzone_partition, dtype: int64\n"
     ]
    }
   ],
   "source": [
    "## 2. count all values for the endzone partition -- use pd.Series.value_counts(), indexed by endzone_partition\n",
    "scoring_distribution = df_assists[\"endzone_partition\"].value_counts()\n",
    "print \"raw counts:\\n\\n\",df_assists[\"endzone_partition\"].value_counts()\n",
    "\n",
    "## NOTE: need to force an index onto this function, in case one of the regions is not scored in.\n",
    "## temporarily, we'll add this by hand.  Long term, we can create an Endzone object, for which we\n",
    "## can set any number of partitions for, and simplify the process of heatmapping.\n",
    "\n",
    "s2s,f2b  = 3,2     # for 3 sideline-to-sideline partitions, 2 front-to-back partitions\n",
    "indx     = [(u,v) for u in range(f2b) for v in range(s2s)]\n",
    "\n",
    "scoring_distribution = scoring_distribution.reindex(indx,fill_value=0)\n",
    "print \"\\nafter forcing an index:\\n\\n\",scoring_distribution\n",
    "\n",
    "## 3. sort values of result from (2) by the index -- use pd.Series.sort_index()\n",
    "scoring_distribution = scoring_distribution.sort_index()"
   ]
  },
  {
   "cell_type": "code",
   "execution_count": 40,
   "metadata": {
    "collapsed": false
   },
   "outputs": [
    {
     "name": "stdout",
     "output_type": "stream",
     "text": [
      "[[3 1 4]\n",
      " [0 0 0]]\n"
     ]
    },
    {
     "data": {
      "text/plain": [
       "<matplotlib.axes._subplots.AxesSubplot at 0xad76ef0>"
      ]
     },
     "execution_count": 40,
     "metadata": {},
     "output_type": "execute_result"
    },
    {
     "data": {
      "image/png": "[encoded data removed]",
      "text/plain": [
       "<matplotlib.figure.Figure at 0xb024e10>"
      ]
     },
     "metadata": {},
     "output_type": "display_data"
    }
   ],
   "source": [
    "## 4. reshape the resultant Series by how the endzone is shaped, forming a matrix -- use np.reshape(Series)\n",
    "score_heat = np.reshape(scoring_distribution, (f2b,s2s))\n",
    "print score_heat\n",
    "\n",
    "## 5. plot heatmap over this matrix -- use seaborn.heatmap()\n",
    "heatmap(score_heat,annot=True)"
   ]
  },
  {
   "cell_type": "markdown",
   "metadata": {},
   "source": [
    "### Example endzone heatmap"
   ]
  },
  {
   "cell_type": "code",
   "execution_count": 29,
   "metadata": {
    "collapsed": false,
    "deletable": true,
    "editable": true
   },
   "outputs": [
    {
     "name": "stdout",
     "output_type": "stream",
     "text": [
      "[ 0.00773866  0.0769527   0.13160195  0.11050414  0.51652784  0.15667471]\n",
      "\n",
      "reshaped output:\n",
      "[[ 0.00773866  0.0769527 ]\n",
      " [ 0.13160195  0.11050414]\n",
      " [ 0.51652784  0.15667471]]\n"
     ]
    }
   ],
   "source": [
    "example_endzone_heatmap = dirichlet(ones(6))  # Easiest way for me to ensure all partitions of endzone sum to 1...sorry\n",
    "print example_endzone_heatmap\n",
    "\n",
    "example_endzone_heatmap = np.reshape(example_endzone_heatmap, (3,2))\n",
    "\n",
    "print \"\\nreshaped output:\\n\", example_endzone_heatmap"
   ]
  },
  {
   "cell_type": "code",
   "execution_count": 31,
   "metadata": {
    "collapsed": false,
    "deletable": true,
    "editable": true,
    "scrolled": true
   },
   "outputs": [
    {
     "data": {
      "text/plain": [
       "<matplotlib.text.Text at 0xab367b8>"
      ]
     },
     "execution_count": 31,
     "metadata": {},
     "output_type": "execute_result"
    },
    {
     "data": {
      "image/png": "[encoded data removed]",
      "text/plain": [
       "<matplotlib.figure.Figure at 0xaa6b828>"
      ]
     },
     "metadata": {},
     "output_type": "display_data"
    }
   ],
   "source": [
    "heatmap(example_endzone_heatmap)\n",
    "title(\"heatmap of scoring locations\")"
   ]
  },
  {
   "cell_type": "markdown",
   "metadata": {
    "deletable": true,
    "editable": true
   },
   "source": [
    "Feel free to mess with params to make colors better looking or change the shape, number of endzone partitions, etc."
   ]
  },
  {
   "cell_type": "code",
   "execution_count": null,
   "metadata": {
    "collapsed": true,
    "deletable": true,
    "editable": true
   },
   "outputs": [],
   "source": []
  }
 ],
 "metadata": {
  "kernelspec": {
   "display_name": "Python 2",
   "language": "python",
   "name": "python2"
  },
  "language_info": {
   "codemirror_mode": {
    "name": "ipython",
    "version": 2
   },
   "file_extension": ".py",
   "mimetype": "text/x-python",
   "name": "python",
   "nbconvert_exporter": "python",
   "pygments_lexer": "ipython2",
   "version": "2.7.12"
  }
 },
 "nbformat": 4,
 "nbformat_minor": 0
}
