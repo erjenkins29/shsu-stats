{
 "cells": [
  {
   "cell_type": "markdown",
   "metadata": {
    "deletable": true,
    "editable": true
   },
   "source": [
    "## Exploratory analysis notebook\n",
    "\n",
    "Use this notebook for adding new report requirements into scope"
   ]
  },
  {
   "cell_type": "code",
   "execution_count": null,
   "metadata": {
    "collapsed": true,
    "deletable": true,
    "editable": true
   },
   "outputs": [],
   "source": []
  },
  {
   "cell_type": "code",
   "execution_count": 1,
   "metadata": {
    "collapsed": false,
    "deletable": true,
    "editable": true
   },
   "outputs": [
    {
     "name": "stdout",
     "output_type": "stream",
     "text": [
      "Populating the interactive namespace from numpy and matplotlib\n"
     ]
    }
   ],
   "source": [
    "%pylab inline\n",
    "import pandas as pd"
   ]
  },
  {
   "cell_type": "markdown",
   "metadata": {
    "collapsed": true,
    "deletable": true,
    "editable": true
   },
   "source": [
    "### NOTE: All endzone heatmap content moved to \"Endzone Heatmap.ipynb\""
   ]
  },
  {
   "cell_type": "markdown",
   "metadata": {},
   "source": [
    "### Data exploration\n",
    "\n",
    "Making notes on the Yewwah-SUIS game I just watched/ did data entry for."
   ]
  },
  {
   "cell_type": "code",
   "execution_count": 2,
   "metadata": {
    "collapsed": true
   },
   "outputs": [],
   "source": [
    "import pandas as pd"
   ]
  },
  {
   "cell_type": "code",
   "execution_count": 56,
   "metadata": {
    "collapsed": true
   },
   "outputs": [],
   "source": [
    "df = pd.read_csv(\"YW-Dogs/Passes vs. Suis 2017-03-24_16-10.csv\")"
   ]
  },
  {
   "cell_type": "code",
   "execution_count": 57,
   "metadata": {
    "collapsed": false,
    "scrolled": true
   },
   "outputs": [
    {
     "data": {
      "text/html": [
       "<div>\n",
       "<table border=\"1\" class=\"dataframe\">\n",
       "  <thead>\n",
       "    <tr style=\"text-align: right;\">\n",
       "      <th></th>\n",
       "      <th>Thrower</th>\n",
       "      <th>Receiver</th>\n",
       "      <th>Start X (0 -&gt; 1 = left sideline -&gt; right sideline)</th>\n",
       "      <th>Start Y (0 -&gt; 1 = back of opponent endzone -&gt; back of own endzone)</th>\n",
       "      <th>End X (0 -&gt; 1 = left sideline -&gt; right sideline)</th>\n",
       "      <th>End Y (0 -&gt; 1 = back of opponent endzone -&gt; back of own endzone)</th>\n",
       "    </tr>\n",
       "  </thead>\n",
       "  <tbody>\n",
       "    <tr>\n",
       "      <th>39</th>\n",
       "      <td>Julia Zhang</td>\n",
       "      <td>Simon Li</td>\n",
       "      <td>0.669355</td>\n",
       "      <td>0.505964</td>\n",
       "      <td>0.526882</td>\n",
       "      <td>0.083499</td>\n",
       "    </tr>\n",
       "    <tr>\n",
       "      <th>121</th>\n",
       "      <td>Julia Zhang</td>\n",
       "      <td>Bobby</td>\n",
       "      <td>0.072581</td>\n",
       "      <td>0.415507</td>\n",
       "      <td>0.494624</td>\n",
       "      <td>0.108350</td>\n",
       "    </tr>\n",
       "    <tr>\n",
       "      <th>141</th>\n",
       "      <td>#17 Kevin Yang</td>\n",
       "      <td>Bobby</td>\n",
       "      <td>0.266129</td>\n",
       "      <td>0.305169</td>\n",
       "      <td>0.529570</td>\n",
       "      <td>0.105368</td>\n",
       "    </tr>\n",
       "    <tr>\n",
       "      <th>143</th>\n",
       "      <td>#17 Kevin Yang</td>\n",
       "      <td>#18 Danielle Xu</td>\n",
       "      <td>0.198925</td>\n",
       "      <td>0.241551</td>\n",
       "      <td>0.456989</td>\n",
       "      <td>0.129225</td>\n",
       "    </tr>\n",
       "  </tbody>\n",
       "</table>\n",
       "</div>"
      ],
      "text/plain": [
       "            Thrower         Receiver  \\\n",
       "39      Julia Zhang         Simon Li   \n",
       "121     Julia Zhang            Bobby   \n",
       "141  #17 Kevin Yang            Bobby   \n",
       "143  #17 Kevin Yang  #18 Danielle Xu   \n",
       "\n",
       "     Start X (0 -> 1 = left sideline -> right sideline)  \\\n",
       "39                                            0.669355    \n",
       "121                                           0.072581    \n",
       "141                                           0.266129    \n",
       "143                                           0.198925    \n",
       "\n",
       "     Start Y (0 -> 1 = back of opponent endzone -> back of own endzone)  \\\n",
       "39                                            0.505964                    \n",
       "121                                           0.415507                    \n",
       "141                                           0.305169                    \n",
       "143                                           0.241551                    \n",
       "\n",
       "     End X (0 -> 1 = left sideline -> right sideline)  \\\n",
       "39                                           0.526882   \n",
       "121                                          0.494624   \n",
       "141                                          0.529570   \n",
       "143                                          0.456989   \n",
       "\n",
       "     End Y (0 -> 1 = back of opponent endzone -> back of own endzone)  \n",
       "39                                            0.083499                 \n",
       "121                                           0.108350                 \n",
       "141                                           0.105368                 \n",
       "143                                           0.129225                 "
      ]
     },
     "execution_count": 57,
     "metadata": {},
     "output_type": "execute_result"
    }
   ],
   "source": [
    "df[df.iloc[:,9]==1].iloc[:,(3,4,19,20,21,22)]"
   ]
  },
  {
   "cell_type": "markdown",
   "metadata": {},
   "source": [
    "Note: I accidentally used \"Julia Zhang\" for \"James Zhang\" the entire game... will need some standardized way of referring to each player.  It is possible to edit player names simply using pandas, but annoying and manual."
   ]
  },
  {
   "cell_type": "code",
   "execution_count": 60,
   "metadata": {
    "collapsed": false
   },
   "outputs": [],
   "source": [
    "#df.loc[df.Thrower==\"Julia Zhang\",\"Thrower\"] = \"#89 James Zhu\"\n",
    "#df.loc[df.Thrower==\"#89 QB (James Zhu)\",\"Thrower\"] = \"Julia Zhang\"\n",
    "#df.loc[df.Receiver==\"Julia Zhang\",\"Receiver\"] = \"#89 James Zhu\"\n",
    "#df.loc[df.Receiver==\"#89 QB (James Zhu)\",\"Receiver\"] = \"Julia Zhang\"\n",
    "#df.to_csv(\"YW-Dogs/Passes vs. Suis 2017-03-24_16-10.csv\")  ### Do this once, to fix wrongly input names"
   ]
  },
  {
   "cell_type": "markdown",
   "metadata": {},
   "source": [
    "### Huck completion percentage"
   ]
  },
  {
   "cell_type": "code",
   "execution_count": 55,
   "metadata": {
    "collapsed": false
   },
   "outputs": [
    {
     "name": "stdout",
     "output_type": "stream",
     "text": [
      "Huck completion percentage:\n",
      "Thrower\n",
      "#17 Kevin Yang     0.0\n",
      "#89 James Zhu     25.0\n",
      "Name: Turnover?, dtype: float64\n",
      "\n",
      "\n",
      "Huck attempts:\n",
      "Thrower\n",
      "#17 Kevin Yang    3\n",
      "#89 James Zhu     4\n",
      "Name: Turnover?, dtype: int64\n"
     ]
    }
   ],
   "source": [
    "df = pd.read_csv(\"YW-Dogs/Passes vs. Suis 2017-03-24_16-10.csv\")\n",
    "huckthrows = df[df[\"Huck? (> 40m)\"]==1]\n",
    "print \"Huck completion percentage:\\n\",(1 - huckthrows.groupby(by=\"Thrower\")[\"Turnover?\"].mean())*100\n",
    "print \"\\n\\nHuck attempts:\\n\",huckthrows.groupby(by=\"Thrower\")[\"Turnover?\"].count()"
   ]
  },
  {
   "cell_type": "markdown",
   "metadata": {},
   "source": [
    "### Dump vs upfield percentages"
   ]
  },
  {
   "cell_type": "code",
   "execution_count": 133,
   "metadata": {
    "collapsed": false,
    "scrolled": false
   },
   "outputs": [
    {
     "data": {
      "text/html": [
       "<div>\n",
       "<table border=\"1\" class=\"dataframe\">\n",
       "  <thead>\n",
       "    <tr style=\"text-align: right;\">\n",
       "      <th></th>\n",
       "      <th>Throw attempts</th>\n",
       "      <th>Dump %</th>\n",
       "      <th>Dump throws attempted</th>\n",
       "      <th>Dump error % (throwing)</th>\n",
       "      <th>Dump receptions attempted</th>\n",
       "      <th>Dump error % (receiving)</th>\n",
       "    </tr>\n",
       "  </thead>\n",
       "  <tbody>\n",
       "    <tr>\n",
       "      <th>#89 James Zhu</th>\n",
       "      <td>63</td>\n",
       "      <td>22.2</td>\n",
       "      <td>14</td>\n",
       "      <td>28.6</td>\n",
       "      <td>12</td>\n",
       "      <td>41.7</td>\n",
       "    </tr>\n",
       "    <tr>\n",
       "      <th>#17 Kevin Yang</th>\n",
       "      <td>41</td>\n",
       "      <td>17.1</td>\n",
       "      <td>7</td>\n",
       "      <td>0.0</td>\n",
       "      <td>10</td>\n",
       "      <td>0.0</td>\n",
       "    </tr>\n",
       "    <tr>\n",
       "      <th>#0 John Yan</th>\n",
       "      <td>22</td>\n",
       "      <td>40.9</td>\n",
       "      <td>9</td>\n",
       "      <td>11.1</td>\n",
       "      <td>11</td>\n",
       "      <td>9.1</td>\n",
       "    </tr>\n",
       "    <tr>\n",
       "      <th>#18 Danielle Xu</th>\n",
       "      <td>4</td>\n",
       "      <td>50.0</td>\n",
       "      <td>2</td>\n",
       "      <td>0.0</td>\n",
       "      <td>0</td>\n",
       "      <td>NaN</td>\n",
       "    </tr>\n",
       "    <tr>\n",
       "      <th>#23 GayGay (Lancelot Li)</th>\n",
       "      <td>4</td>\n",
       "      <td>50.0</td>\n",
       "      <td>2</td>\n",
       "      <td>50.0</td>\n",
       "      <td>0</td>\n",
       "      <td>NaN</td>\n",
       "    </tr>\n",
       "    <tr>\n",
       "      <th>Max</th>\n",
       "      <td>3</td>\n",
       "      <td>33.3</td>\n",
       "      <td>1</td>\n",
       "      <td>100.0</td>\n",
       "      <td>0</td>\n",
       "      <td>NaN</td>\n",
       "    </tr>\n",
       "    <tr>\n",
       "      <th>Michelle Ma</th>\n",
       "      <td>3</td>\n",
       "      <td>33.3</td>\n",
       "      <td>1</td>\n",
       "      <td>0.0</td>\n",
       "      <td>4</td>\n",
       "      <td>0.0</td>\n",
       "    </tr>\n",
       "    <tr>\n",
       "      <th>Bobby</th>\n",
       "      <td>2</td>\n",
       "      <td>50.0</td>\n",
       "      <td>1</td>\n",
       "      <td>0.0</td>\n",
       "      <td>1</td>\n",
       "      <td>0.0</td>\n",
       "    </tr>\n",
       "    <tr>\n",
       "      <th>Soap</th>\n",
       "      <td>2</td>\n",
       "      <td>0.0</td>\n",
       "      <td>0</td>\n",
       "      <td>NaN</td>\n",
       "      <td>0</td>\n",
       "      <td>NaN</td>\n",
       "    </tr>\n",
       "    <tr>\n",
       "      <th>Simon Li</th>\n",
       "      <td>2</td>\n",
       "      <td>100.0</td>\n",
       "      <td>2</td>\n",
       "      <td>0.0</td>\n",
       "      <td>0</td>\n",
       "      <td>NaN</td>\n",
       "    </tr>\n",
       "  </tbody>\n",
       "</table>\n",
       "</div>"
      ],
      "text/plain": [
       "                          Throw attempts  Dump %  Dump throws attempted  \\\n",
       "#89 James Zhu                         63    22.2                     14   \n",
       "#17 Kevin Yang                        41    17.1                      7   \n",
       "#0 John Yan                           22    40.9                      9   \n",
       "#18 Danielle Xu                        4    50.0                      2   \n",
       "#23 GayGay (Lancelot Li)               4    50.0                      2   \n",
       "Max                                    3    33.3                      1   \n",
       "Michelle Ma                            3    33.3                      1   \n",
       "Bobby                                  2    50.0                      1   \n",
       "Soap                                   2     0.0                      0   \n",
       "Simon Li                               2   100.0                      2   \n",
       "\n",
       "                          Dump error % (throwing)  Dump receptions attempted  \\\n",
       "#89 James Zhu                                28.6                         12   \n",
       "#17 Kevin Yang                                0.0                         10   \n",
       "#0 John Yan                                  11.1                         11   \n",
       "#18 Danielle Xu                               0.0                          0   \n",
       "#23 GayGay (Lancelot Li)                     50.0                          0   \n",
       "Max                                         100.0                          0   \n",
       "Michelle Ma                                   0.0                          4   \n",
       "Bobby                                         0.0                          1   \n",
       "Soap                                          NaN                          0   \n",
       "Simon Li                                      0.0                          0   \n",
       "\n",
       "                          Dump error % (receiving)  \n",
       "#89 James Zhu                                 41.7  \n",
       "#17 Kevin Yang                                 0.0  \n",
       "#0 John Yan                                    9.1  \n",
       "#18 Danielle Xu                                NaN  \n",
       "#23 GayGay (Lancelot Li)                       NaN  \n",
       "Max                                            NaN  \n",
       "Michelle Ma                                    0.0  \n",
       "Bobby                                          0.0  \n",
       "Soap                                           NaN  \n",
       "Simon Li                                       NaN  "
      ]
     },
     "execution_count": 133,
     "metadata": {},
     "output_type": "execute_result"
    }
   ],
   "source": [
    "df = pd.read_csv(\"YW-Dogs/Passes vs. Suis 2017-03-24_16-10.csv\")\n",
    "total_throws = df.Thrower.value_counts().sort_values(ascending=False)\n",
    "players = total_throws.index\n",
    "total_dumps_thrown = df[df[\"Dump?\"]==1].groupby(by=\"Thrower\")[\"Thrower error?\"].count().reindex(players,fill_value=0)\n",
    "dump_errors_thrown = df[df[\"Dump?\"]==1].groupby(by=\"Thrower\")[\"Thrower error?\"].sum().reindex(players,fill_value=0)\n",
    "total_dumps_rec    = df[df[\"Dump?\"]==1].groupby(by=\"Receiver\")[\"Receiver error?\"].count().reindex(players,fill_value=0)\n",
    "dump_errors_rec    = df[df[\"Dump?\"]==1].groupby(by=\"Receiver\")[\"Receiver error?\"].sum().reindex(players,fill_value=0)\n",
    "\n",
    "#print \"\\n\\nThrow attempts:\\n\", df.groupby(by=\"Thrower\")[\"Dump?\"].count().to_string()\n",
    "#print \"\\n\\nDump throws attempted:\\n\", total_dumps_thrown.to_string()\n",
    "#print \"\\n\\nDump error pct (throwing)\\n\", np.round(100*(dump_errors_thrown / total_dumps_thrown),1).to_string()\n",
    "#print \"\\n\\nDump receptions attempted:\\n\", total_dumps_rec.to_string()\n",
    "#print \"\\n\\nDump error pct (receiving):\\n\",np.round(100*dump_errors_rec / total_dumps_rec,1).to_string()\n",
    "#print \"Turnover rate from dumping (throws):\\n\",df.groupby(by=\"Thrower\")[\"Dump?\"].count()\n",
    "\n",
    "df_dumps   = pd.DataFrame(index=players)\n",
    "df_dumps[\"Throw attempts\"]             = total_throws\n",
    "df_dumps[\"Dump %\"]                     = np.round(100*total_dumps_thrown / total_throws,1)\n",
    "df_dumps[\"Dump throws attempted\"]      = total_dumps_thrown\n",
    "df_dumps[\"Dump error % (throwing)\"]    = np.round(100*(dump_errors_thrown / total_dumps_thrown),1)\n",
    "df_dumps[\"Dump receptions attempted\"]  = total_dumps_rec\n",
    "df_dumps[\"Dump error % (receiving)\"]   = np.round(100*dump_errors_rec / total_dumps_rec,1)\n",
    "df_dumps"
   ]
  },
  {
   "cell_type": "code",
   "execution_count": 143,
   "metadata": {
    "collapsed": false
   },
   "outputs": [
    {
     "data": {
      "text/plain": [
       "<matplotlib.text.Text at 0xa4924e0>"
      ]
     },
     "execution_count": 143,
     "metadata": {},
     "output_type": "execute_result"
    },
    {
     "data": {
      "image/png": "[encoded data removed]",
      "text/plain": [
       "<matplotlib.figure.Figure at 0x9346588>"
      ]
     },
     "metadata": {},
     "output_type": "display_data"
    }
   ],
   "source": [
    "scatter(df_dumps[\"Dump throws attempted\"],dump_errors_thrown)\n",
    "xlim(0,df_dumps[\"Dump throws attempted\"].max()); ylim(0,df_dumps[\"Dump throws attempted\"].max())\n",
    "xlabel(\"Dump attempts\");ylabel(\"Dump errors\")"
   ]
  },
  {
   "cell_type": "markdown",
   "metadata": {
    "deletable": true,
    "editable": true
   },
   "source": [
    "### Goal: \n",
    "\n",
    "Plot all possessions, extra graphics for turnovers, stalls, receiver errors, etc."
   ]
  },
  {
   "cell_type": "code",
   "execution_count": 86,
   "metadata": {
    "collapsed": false
   },
   "outputs": [
    {
     "data": {
      "image/png": "[encoded data removed]",
      "text/plain": [
       "<matplotlib.figure.Figure at 0x8e60630>"
      ]
     },
     "metadata": {},
     "output_type": "display_data"
    }
   ],
   "source": [
    "df = pd.read_csv(\"YW-Dogs/Passes vs. Suis 2017-03-24_16-10.csv\")\n",
    "\n",
    "point = np.unique(df.Point)\n",
    "\n",
    "i=1\n",
    "for pt in point:\n",
    "    plt.subplot(3,7,i)\n",
    "    possessions = np.unique(df.loc[df.Point==pt,\"Possession\"])\n",
    "    for poss in possessions:\n",
    "        Xs = df.loc[(df.Point==pt)&(df.Possession==poss),\"Start X (0 -> 1 = left sideline -> right sideline)\"].tolist()\n",
    "        Ys = df.loc[(df.Point==pt)&(df.Possession==poss),\"Start Y (0 -> 1 = back of opponent endzone -> back of own endzone)\"].tolist()\n",
    "        turn_or_goal_x = df.loc[(df.Point==pt)&(df.Possession==poss),\"End X (0 -> 1 = left sideline -> right sideline)\"].tolist()[-1]\n",
    "        turn_or_goal_y = df.loc[(df.Point==pt)&(df.Possession==poss),\"End Y (0 -> 1 = back of opponent endzone -> back of own endzone)\"].tolist()[-1]\n",
    "        Xs += [turn_or_goal_x]\n",
    "        Ys += [turn_or_goal_y]        \n",
    "        plt.plot(Xs,Ys)\n",
    "    plt.xticks([]);plt.yticks([])\n",
    "    plt.xlim(0,1);plt.ylim(0,1)\n",
    "    \n",
    "    ## endzones\n",
    "    normalized_line = 25. / (25+70+25)  ## normalized between 0 and 1, like the X-Y coordinates\n",
    "    plt.plot([0,1],[normalized_line,normalized_line],'r')\n",
    "    plt.plot([0,1],[1-normalized_line,1-normalized_line],'r')\n",
    "    plt.title(pt)\n",
    "    i+=1"
   ]
  }
 ],
 "metadata": {
  "kernelspec": {
   "display_name": "Python 2",
   "language": "python",
   "name": "python2"
  },
  "language_info": {
   "codemirror_mode": {
    "name": "ipython",
    "version": 2
   },
   "file_extension": ".py",
   "mimetype": "text/x-python",
   "name": "python",
   "nbconvert_exporter": "python",
   "pygments_lexer": "ipython2",
   "version": "2.7.12"
  }
 },
 "nbformat": 4,
 "nbformat_minor": 0
}
