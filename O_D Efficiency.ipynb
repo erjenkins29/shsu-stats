{
 "cells": [
  {
   "cell_type": "markdown",
   "metadata": {},
   "source": [
    "# O/D Efficiency\n",
    "\n",
    "Efficiency is calculated by +1 for being on the line when we score and -1 for being on the line when we get scored on, then normalized.\n",
    "\n",
    "Use 'Points vs. ...' csv for what happened on each point and 'Player Stats vs. ...' for who was on the line for that point"
   ]
  },
  {
   "cell_type": "code",
   "execution_count": 92,
   "metadata": {
    "collapsed": false
   },
   "outputs": [
    {
     "name": "stdout",
     "output_type": "stream",
     "text": [
      "Populating the interactive namespace from numpy and matplotlib\n"
     ]
    }
   ],
   "source": [
    "%pylab inline\n",
    "import pandas as pd"
   ]
  },
  {
   "cell_type": "code",
   "execution_count": 93,
   "metadata": {
    "collapsed": false
   },
   "outputs": [],
   "source": [
    "player_stats_df = pd.read_csv('WY-Wolves/Player Stats vs. CI-Vapour 2017-03-29_16-30.csv')\n",
    "points_df = pd.read_csv('WY-Wolves/Points vs. CI-Vapour 2017-03-29_16-30.csv')"
   ]
  },
  {
   "cell_type": "code",
   "execution_count": 94,
   "metadata": {
    "collapsed": false
   },
   "outputs": [
    {
     "name": "stdout",
     "output_type": "stream",
     "text": [
      "              Player                   Points played\n",
      "0      #1 Joyce Wang  1,2,3,4,5,6,7,9,10,12,13,15,16\n",
      "1     #14 Cecilia Wu     1,2,3,4,5,6,8,9,11,12,14,15\n",
      "2   #27 Daniel Zhang         1,2,3,4,6,8,10,12,14,16\n",
      "3       #28 Tina Zhu          2,5,7,8,10,11,13,14,16\n",
      "4   #22 Paul Simpson           1,2,3,6,8,10,12,14,16\n",
      "5    #69 Justin Chen              1,4,5,7,9,11,13,15\n",
      "6      #55 Tigger Li              1,2,5,7,9,11,13,15\n",
      "7    #52 Emily Zhang                1,4,7,9,11,13,15\n",
      "8       #0 Julie Luo               3,6,8,10,12,14,16\n",
      "9       #76 Jack Xia                  3,4,7,10,13,16\n",
      "10         Alex Chen                  3,4,7,10,13,16\n",
      "11      #19 Ben Wang                     2,6,9,12,15\n",
      "12      #41 Billy Ni                       5,8,11,14\n",
      "13    #36 Jason Ling                       6,9,12,15\n",
      "14    #66 Jerry Chen                       5,8,11,14\n"
     ]
    }
   ],
   "source": [
    "# get the points each player played in\n",
    "\n",
    "players = player_stats_df.loc[:, ['Player', 'Points played']]\n",
    "print(players)"
   ]
  },
  {
   "cell_type": "code",
   "execution_count": 95,
   "metadata": {
    "collapsed": false
   },
   "outputs": [],
   "source": [
    "# find the o_points, the ones we scored on and the ones we got scored on\n",
    "\n",
    "o_points = points_df[points_df['Started on offense?'] == 1]\n",
    "o_points_won = o_points[o_points['Scored?'] == 1]\n",
    "o_points_lost = o_points[o_points['Scored?'] == 0]"
   ]
  },
  {
   "cell_type": "code",
   "execution_count": 96,
   "metadata": {
    "collapsed": false
   },
   "outputs": [
    {
     "name": "stdout",
     "output_type": "stream",
     "text": [
      "Point 1\n",
      "\t #1 Joyce Wang\n",
      "\t #14 Cecilia Wu\n",
      "\t #27 Daniel Zhang\n",
      "\t #22 Paul Simpson\n",
      "\t #69 Justin Chen\n",
      "\t #55 Tigger Li\n",
      "\t #52 Emily Zhang\n",
      "Point 5\n",
      "\t #1 Joyce Wang\n",
      "\t #14 Cecilia Wu\n",
      "\t #28 Tina Zhu\n",
      "\t #69 Justin Chen\n",
      "\t #55 Tigger Li\n",
      "\t #41 Billy Ni\n",
      "\t #66 Jerry Chen\n",
      "Point 12\n",
      "\t #1 Joyce Wang\n",
      "\t #14 Cecilia Wu\n",
      "\t #27 Daniel Zhang\n",
      "\t #22 Paul Simpson\n",
      "\t #0 Julie Luo\n",
      "\t #19 Ben Wang\n",
      "\t #36 Jason Ling\n",
      "Point 14\n",
      "\t #14 Cecilia Wu\n",
      "\t #27 Daniel Zhang\n",
      "\t #28 Tina Zhu\n",
      "\t #22 Paul Simpson\n",
      "\t #0 Julie Luo\n",
      "\t #41 Billy Ni\n",
      "\t #66 Jerry Chen\n",
      "{}\n"
     ]
    }
   ],
   "source": [
    "# dictionary with each o point that we scored\n",
    "# keys are the point numbers\n",
    "# values are lists of players on the line that point\n",
    "\n",
    "points_won = o_points_won.loc[:, ['Point']].values\n",
    "\n",
    "o_lines_plus = {}\n",
    "\n",
    "if points_won.size > 0:\n",
    "    for point in np.nditer(points_won):\n",
    "        point = int(point)\n",
    "        for row in players.iterrows():\n",
    "            player_points = row[1][1].split(',')\n",
    "            if str(point) in player_points:\n",
    "                if point in o_lines_plus.keys():\n",
    "                    o_lines_plus[point].append(row[1][0])\n",
    "                else:\n",
    "                    o_lines_plus[point] = [row[1][0]]\n",
    "\n",
    "for point, line in o_lines_plus.items():\n",
    "    print('Point',point)\n",
    "    for player in line:\n",
    "        print('\\t', player)\n",
    "else:\n",
    "    print({})"
   ]
  },
  {
   "cell_type": "code",
   "execution_count": 97,
   "metadata": {
    "collapsed": false
   },
   "outputs": [
    {
     "name": "stdout",
     "output_type": "stream",
     "text": [
      "{}\n"
     ]
    }
   ],
   "source": [
    "# dictionary with each o point that we got scored on\n",
    "# keys are the point numbers\n",
    "# values are lists of players on the line that point\n",
    "\n",
    "points_lost = o_points_lost.loc[:,['Point']].values\n",
    "\n",
    "o_lines_minus = {}\n",
    "\n",
    "if points_lost.size > 0:\n",
    "    for point in np.nditer(points_lost):\n",
    "        point = int(point)\n",
    "        for row in players.iterrows():\n",
    "            player_points = row[1][1].split(',')\n",
    "            if str(point) in player_points:\n",
    "                if point in o_lines_minus.keys():\n",
    "                    o_lines_minus[point].append(row[1][0])\n",
    "                else:\n",
    "                    o_lines_minus[point] = [row[1][0]]\n",
    "                    \n",
    "\n",
    "for point, line in o_lines_minus.items():\n",
    "    print('Point',point)\n",
    "    for player in line:\n",
    "        print('\\t', player)\n",
    "else:\n",
    "    print({})"
   ]
  },
  {
   "cell_type": "code",
   "execution_count": 99,
   "metadata": {
    "collapsed": false
   },
   "outputs": [
    {
     "name": "stdout",
     "output_type": "stream",
     "text": [
      "#1 Joyce Wang :\t 3\n",
      "#14 Cecilia Wu :\t 4\n",
      "#27 Daniel Zhang :\t 3\n",
      "#22 Paul Simpson :\t 3\n",
      "#69 Justin Chen :\t 2\n",
      "#55 Tigger Li :\t 2\n",
      "#52 Emily Zhang :\t 1\n",
      "#28 Tina Zhu :\t 2\n",
      "#41 Billy Ni :\t 2\n",
      "#66 Jerry Chen :\t 2\n",
      "#0 Julie Luo :\t 2\n",
      "#19 Ben Wang :\t 1\n",
      "#36 Jason Ling :\t 1\n"
     ]
    }
   ],
   "source": [
    "# get the number of o points played for each player as a dictionary\n",
    "# keys are player names\n",
    "# values are number of o points played\n",
    "\n",
    "points_played = o_points.loc[:,['Point']].values\n",
    "o_points_played = {}\n",
    "if points_played.size > 0:\n",
    "    for point in np.nditer(points_played):\n",
    "        point = int(point)\n",
    "        for row in players.iterrows():\n",
    "            player_points = row[1][1].split(',')\n",
    "            if str(point) in player_points:\n",
    "                if row[1][0] in o_points_played.keys():\n",
    "                    o_points_played[row[1][0]] += 1\n",
    "                else:\n",
    "                    o_points_played[row[1][0]] = 1\n",
    "                    \n",
    "for player, points in o_points_played.items():\n",
    "    print(player, ':\\t', points)"
   ]
  },
  {
   "cell_type": "code",
   "execution_count": 100,
   "metadata": {
    "collapsed": false
   },
   "outputs": [
    {
     "name": "stdout",
     "output_type": "stream",
     "text": [
      "#1 Joyce Wang :\t 1.0\n",
      "#14 Cecilia Wu :\t 1.0\n",
      "#27 Daniel Zhang :\t 1.0\n",
      "#22 Paul Simpson :\t 1.0\n",
      "#69 Justin Chen :\t 1.0\n",
      "#55 Tigger Li :\t 1.0\n",
      "#52 Emily Zhang :\t 1.0\n",
      "#28 Tina Zhu :\t 1.0\n",
      "#41 Billy Ni :\t 1.0\n",
      "#66 Jerry Chen :\t 1.0\n",
      "#0 Julie Luo :\t 1.0\n",
      "#19 Ben Wang :\t 1.0\n",
      "#36 Jason Ling :\t 1.0\n"
     ]
    }
   ],
   "source": [
    "# calculate offensive efficiency as a dictionary\n",
    "# keys are player names\n",
    "# values are their effiencies between -1 and 1\n",
    "\n",
    "# create the dictionary and add all the positives\n",
    "o_eff = {}\n",
    "for point, line in o_lines_plus.items():\n",
    "    for player in line:\n",
    "        if player in o_eff.keys():\n",
    "            o_eff[player] += 1\n",
    "        else:\n",
    "            o_eff[player] = 1\n",
    "\n",
    "# add all the minuses\n",
    "for point, line in o_lines_minus.items():\n",
    "    for player in line:\n",
    "        if player in o_eff.keys():\n",
    "            o_eff[player] -= 1\n",
    "        else:\n",
    "            o_eff[player] = -1\n",
    "\n",
    "# divide by the number of o points played\n",
    "for player, eff in o_eff.items():\n",
    "    o_eff[player] = eff/o_points_played[player]\n",
    "    \n",
    "for player, eff in o_eff.items():\n",
    "    print(player, ':\\t', eff)"
   ]
  },
  {
   "cell_type": "code",
   "execution_count": 101,
   "metadata": {
    "collapsed": true
   },
   "outputs": [],
   "source": [
    "# find the d_points, the ones we scored on and the ones we got scored on\n",
    "\n",
    "d_points = points_df[points_df['Started on offense?'] == 0]\n",
    "d_points_won = d_points[d_points['Scored?'] == 1]\n",
    "d_points_lost = d_points[d_points['Scored?'] == 0]"
   ]
  },
  {
   "cell_type": "code",
   "execution_count": 102,
   "metadata": {
    "collapsed": false
   },
   "outputs": [
    {
     "name": "stdout",
     "output_type": "stream",
     "text": [
      "Point 2\n",
      "\t #1 Joyce Wang\n",
      "\t #14 Cecilia Wu\n",
      "\t #27 Daniel Zhang\n",
      "\t #28 Tina Zhu\n",
      "\t #22 Paul Simpson\n",
      "\t #55 Tigger Li\n",
      "\t #19 Ben Wang\n",
      "Point 3\n",
      "\t #1 Joyce Wang\n",
      "\t #14 Cecilia Wu\n",
      "\t #27 Daniel Zhang\n",
      "\t #22 Paul Simpson\n",
      "\t #0 Julie Luo\n",
      "\t #76 Jack Xia\n",
      "\t Alex Chen\n",
      "Point 6\n",
      "\t #1 Joyce Wang\n",
      "\t #14 Cecilia Wu\n",
      "\t #27 Daniel Zhang\n",
      "\t #22 Paul Simpson\n",
      "\t #0 Julie Luo\n",
      "\t #19 Ben Wang\n",
      "\t #36 Jason Ling\n",
      "Point 7\n",
      "\t #1 Joyce Wang\n",
      "\t #28 Tina Zhu\n",
      "\t #69 Justin Chen\n",
      "\t #55 Tigger Li\n",
      "\t #52 Emily Zhang\n",
      "\t #76 Jack Xia\n",
      "\t Alex Chen\n",
      "Point 8\n",
      "\t #14 Cecilia Wu\n",
      "\t #27 Daniel Zhang\n",
      "\t #28 Tina Zhu\n",
      "\t #22 Paul Simpson\n",
      "\t #0 Julie Luo\n",
      "\t #41 Billy Ni\n",
      "\t #66 Jerry Chen\n",
      "Point 9\n",
      "\t #1 Joyce Wang\n",
      "\t #14 Cecilia Wu\n",
      "\t #69 Justin Chen\n",
      "\t #55 Tigger Li\n",
      "\t #52 Emily Zhang\n",
      "\t #19 Ben Wang\n",
      "\t #36 Jason Ling\n",
      "Point 10\n",
      "\t #1 Joyce Wang\n",
      "\t #27 Daniel Zhang\n",
      "\t #28 Tina Zhu\n",
      "\t #22 Paul Simpson\n",
      "\t #0 Julie Luo\n",
      "\t #76 Jack Xia\n",
      "\t Alex Chen\n",
      "Point 15\n",
      "\t #1 Joyce Wang\n",
      "\t #14 Cecilia Wu\n",
      "\t #69 Justin Chen\n",
      "\t #55 Tigger Li\n",
      "\t #52 Emily Zhang\n",
      "\t #19 Ben Wang\n",
      "\t #36 Jason Ling\n",
      "Point 16\n",
      "\t #1 Joyce Wang\n",
      "\t #27 Daniel Zhang\n",
      "\t #28 Tina Zhu\n",
      "\t #22 Paul Simpson\n",
      "\t #0 Julie Luo\n",
      "\t #76 Jack Xia\n",
      "\t Alex Chen\n",
      "{}\n"
     ]
    }
   ],
   "source": [
    "# dictionary with each d point that we scored\n",
    "# keys are the point numbers\n",
    "# values are lists of players on the line that point\n",
    "\n",
    "points_won = d_points_won.loc[:, ['Point']].values\n",
    "\n",
    "d_lines_plus = {}\n",
    "\n",
    "if points_won.size > 0:\n",
    "    for point in np.nditer(points_won):\n",
    "        point = int(point)\n",
    "        for row in players.iterrows():\n",
    "            player_points = row[1][1].split(',')\n",
    "            if str(point) in player_points:\n",
    "                if point in d_lines_plus.keys():\n",
    "                    d_lines_plus[point].append(row[1][0])\n",
    "                else:\n",
    "                    d_lines_plus[point] = [row[1][0]]\n",
    "\n",
    "for point, line in d_lines_plus.items():\n",
    "    print('Point',point)\n",
    "    for player in line:\n",
    "        print('\\t', player)\n",
    "else:\n",
    "    print({})"
   ]
  },
  {
   "cell_type": "code",
   "execution_count": 103,
   "metadata": {
    "collapsed": false
   },
   "outputs": [
    {
     "name": "stdout",
     "output_type": "stream",
     "text": [
      "Point 4\n",
      "\t #1 Joyce Wang\n",
      "\t #14 Cecilia Wu\n",
      "\t #27 Daniel Zhang\n",
      "\t #69 Justin Chen\n",
      "\t #52 Emily Zhang\n",
      "\t #76 Jack Xia\n",
      "\t Alex Chen\n",
      "Point 11\n",
      "\t #14 Cecilia Wu\n",
      "\t #28 Tina Zhu\n",
      "\t #69 Justin Chen\n",
      "\t #55 Tigger Li\n",
      "\t #52 Emily Zhang\n",
      "\t #41 Billy Ni\n",
      "\t #66 Jerry Chen\n",
      "Point 13\n",
      "\t #1 Joyce Wang\n",
      "\t #28 Tina Zhu\n",
      "\t #69 Justin Chen\n",
      "\t #55 Tigger Li\n",
      "\t #52 Emily Zhang\n",
      "\t #76 Jack Xia\n",
      "\t Alex Chen\n",
      "{}\n"
     ]
    }
   ],
   "source": [
    "# dictionary with each d point that we got scored on\n",
    "# keys are the point numbers\n",
    "# values are lists of players on the line that point\n",
    "\n",
    "points_lost = d_points_lost.loc[:,['Point']].values\n",
    "\n",
    "d_lines_minus = {}\n",
    "\n",
    "if points_lost.size > 0:\n",
    "    for point in np.nditer(points_lost):\n",
    "        point = int(point)\n",
    "        for row in players.iterrows():\n",
    "            player_points = row[1][1].split(',')\n",
    "            if str(point) in player_points:\n",
    "                if point in d_lines_minus.keys():\n",
    "                    d_lines_minus[point].append(row[1][0])\n",
    "                else:\n",
    "                    d_lines_minus[point] = [row[1][0]]\n",
    "                    \n",
    "\n",
    "for point, line in d_lines_minus.items():\n",
    "    print('Point',point)\n",
    "    for player in line:\n",
    "        print('\\t', player)\n",
    "else:\n",
    "    print({})"
   ]
  },
  {
   "cell_type": "code",
   "execution_count": 104,
   "metadata": {
    "collapsed": false
   },
   "outputs": [
    {
     "name": "stdout",
     "output_type": "stream",
     "text": [
      "#1 Joyce Wang :\t 10\n",
      "#14 Cecilia Wu :\t 8\n",
      "#27 Daniel Zhang :\t 7\n",
      "#28 Tina Zhu :\t 7\n",
      "#22 Paul Simpson :\t 6\n",
      "#55 Tigger Li :\t 6\n",
      "#19 Ben Wang :\t 4\n",
      "#0 Julie Luo :\t 5\n",
      "#76 Jack Xia :\t 6\n",
      "Alex Chen :\t 6\n",
      "#69 Justin Chen :\t 6\n",
      "#52 Emily Zhang :\t 6\n",
      "#36 Jason Ling :\t 3\n",
      "#41 Billy Ni :\t 2\n",
      "#66 Jerry Chen :\t 2\n"
     ]
    }
   ],
   "source": [
    "# get the number of d points played for each player as a dictionary\n",
    "# keys are player names\n",
    "# values are number of o points played\n",
    "\n",
    "points_played = d_points.loc[:,['Point']].values\n",
    "d_points_played = {}\n",
    "if points_played.size > 0:\n",
    "    for point in np.nditer(points_played):\n",
    "        point = int(point)\n",
    "        for row in players.iterrows():\n",
    "            player_points = row[1][1].split(',')\n",
    "            if str(point) in player_points:\n",
    "                if row[1][0] in d_points_played.keys():\n",
    "                    d_points_played[row[1][0]] += 1\n",
    "                else:\n",
    "                    d_points_played[row[1][0]] = 1\n",
    "                    \n",
    "for player, points in d_points_played.items():\n",
    "    print(player, ':\\t', points)"
   ]
  },
  {
   "cell_type": "code",
   "execution_count": 105,
   "metadata": {
    "collapsed": false
   },
   "outputs": [
    {
     "name": "stdout",
     "output_type": "stream",
     "text": [
      "#1 Joyce Wang :\t 0.6\n",
      "#14 Cecilia Wu :\t 0.5\n",
      "#27 Daniel Zhang :\t 0.7142857142857143\n",
      "#28 Tina Zhu :\t 0.42857142857142855\n",
      "#22 Paul Simpson :\t 1.0\n",
      "#55 Tigger Li :\t 0.3333333333333333\n",
      "#19 Ben Wang :\t 1.0\n",
      "#0 Julie Luo :\t 1.0\n",
      "#76 Jack Xia :\t 0.3333333333333333\n",
      "Alex Chen :\t 0.3333333333333333\n",
      "#36 Jason Ling :\t 1.0\n",
      "#69 Justin Chen :\t 0.0\n",
      "#52 Emily Zhang :\t 0.0\n",
      "#41 Billy Ni :\t 0.0\n",
      "#66 Jerry Chen :\t 0.0\n"
     ]
    }
   ],
   "source": [
    "# calculate defensive efficiency as a dictionary\n",
    "# keys are player names\n",
    "# values are their effiencies between -1 and 1\n",
    "\n",
    "# create the dictionary and add all the positives\n",
    "\n",
    "d_eff = {}\n",
    "for point, line in d_lines_plus.items():\n",
    "    for player in line:\n",
    "        if player in d_eff.keys():\n",
    "            d_eff[player] += 1\n",
    "        else:\n",
    "            d_eff[player] = 1\n",
    "\n",
    "# subtract all the negatives\n",
    "for point, line in d_lines_minus.items():\n",
    "    for player in line:\n",
    "        if player in d_eff.keys():\n",
    "            d_eff[player] -= 1\n",
    "        else:\n",
    "            d_eff[player] = -1\n",
    "\n",
    "# divide by the number of points played\n",
    "for player, eff in d_eff.items():\n",
    "    d_eff[player] = eff/d_points_played[player]\n",
    "    \n",
    "for player, eff in d_eff.items():\n",
    "    print(player, ':\\t', eff)"
   ]
  }
 ],
 "metadata": {
  "kernelspec": {
   "display_name": "Python 3",
   "language": "python",
   "name": "python3"
  },
  "language_info": {
   "codemirror_mode": {
    "name": "ipython",
    "version": 3
   },
   "file_extension": ".py",
   "mimetype": "text/x-python",
   "name": "python",
   "nbconvert_exporter": "python",
   "pygments_lexer": "ipython3",
   "version": "3.6.0"
  }
 },
 "nbformat": 4,
 "nbformat_minor": 2
}
