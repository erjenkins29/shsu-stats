{
 "cells": [
  {
   "cell_type": "markdown",
   "metadata": {
    "deletable": true,
    "editable": true
   },
   "source": [
    "# O/D Efficiency\n",
    "\n",
    "Efficiency is calculated by +1 for being on the line when we score and -1 for being on the line when we get scored on, then normalized.\n",
    "\n",
    "Use 'Points vs. ...' csv for what happened on each point and 'Player Stats vs. ...' for who was on the line for that point"
   ]
  },
  {
   "cell_type": "code",
   "execution_count": 2,
   "metadata": {
    "collapsed": false,
    "deletable": true,
    "editable": true
   },
   "outputs": [
    {
     "name": "stdout",
     "output_type": "stream",
     "text": [
      "Populating the interactive namespace from numpy and matplotlib\n"
     ]
    }
   ],
   "source": [
    "%pylab inline\n",
    "import pandas as pd"
   ]
  },
  {
   "cell_type": "code",
   "execution_count": 3,
   "metadata": {
    "collapsed": false,
    "deletable": true,
    "editable": true
   },
   "outputs": [],
   "source": [
    "player_stats_df = pd.read_csv('WY-Wolves/Player Stats vs. YK-Buddha 2017-03-11_14-30.csv')\n",
    "points_df = pd.read_csv('WY-Wolves/Points vs. YK-Buddha 2017-03-11_14-30.csv')"
   ]
  },
  {
   "cell_type": "code",
   "execution_count": 4,
   "metadata": {
    "collapsed": false,
    "deletable": true,
    "editable": true
   },
   "outputs": [
    {
     "name": "stdout",
     "output_type": "stream",
     "text": [
      "              Player                           Points played\n",
      "0         Joyce Wang  1,2,3,4,5,6,7,8,9,10,11,12,13,14,15,16\n",
      "1   #22 Paul Simpson  1,2,3,4,5,6,7,8,9,10,11,12,13,14,15,16\n",
      "2   #27 Daniel Zhang  1,2,3,4,5,6,7,8,9,10,11,12,13,14,15,16\n",
      "3         Cecilia Wu  1,2,3,4,5,6,7,8,9,10,11,12,13,14,15,16\n",
      "4    #69 Justin Chen           1,2,3,7,8,9,10,12,13,14,15,16\n",
      "5         Jamie Chen                  1,2,3,4,5,6,9,10,13,14\n",
      "6           Tina Zhu                 3,4,5,6,7,8,11,12,15,16\n",
      "7       #19 Ben Wang                              2,11,15,16\n",
      "8      Theresa Zhang                              9,10,13,14\n",
      "9     #66 Jerry Chen                                    5,12\n",
      "10         Alex Chen                                    6,11\n",
      "11         Oscar Yao                                       8\n",
      "12          Jack Xia                                       4\n",
      "13         Julie Luo                                       1\n",
      "14      #41 Billy Ni                                       7\n"
     ]
    }
   ],
   "source": [
    "# get the points each player played in\n",
    "\n",
    "players = player_stats_df.loc[:, ['Player', 'Points played']]\n",
    "print(players)"
   ]
  },
  {
   "cell_type": "code",
   "execution_count": 5,
   "metadata": {
    "collapsed": false,
    "deletable": true,
    "editable": true
   },
   "outputs": [],
   "source": [
    "# find the o_points, the ones we scored on and the ones we got scored on\n",
    "\n",
    "o_points = points_df[points_df['Started on offense?'] == 1]\n",
    "o_points_won = o_points[o_points['Scored?'] == 1]\n",
    "o_points_lost = o_points[o_points['Scored?'] == 0]"
   ]
  },
  {
   "cell_type": "code",
   "execution_count": 6,
   "metadata": {
    "collapsed": false,
    "deletable": true,
    "editable": true
   },
   "outputs": [
    {
     "name": "stdout",
     "output_type": "stream",
     "text": [
      "Point 3\n",
      "\t Joyce Wang\n",
      "\t #22 Paul Simpson\n",
      "\t #27 Daniel Zhang\n",
      "\t Cecilia Wu\n",
      "\t #69 Justin Chen\n",
      "\t Jamie Chen\n",
      "\t Tina Zhu\n",
      "Point 7\n",
      "\t Joyce Wang\n",
      "\t #22 Paul Simpson\n",
      "\t #27 Daniel Zhang\n",
      "\t Cecilia Wu\n",
      "\t #69 Justin Chen\n",
      "\t Tina Zhu\n",
      "\t #41 Billy Ni\n",
      "Point 9\n",
      "\t Joyce Wang\n",
      "\t #22 Paul Simpson\n",
      "\t #27 Daniel Zhang\n",
      "\t Cecilia Wu\n",
      "\t #69 Justin Chen\n",
      "\t Jamie Chen\n",
      "\t Theresa Zhang\n",
      "Point 13\n",
      "\t Joyce Wang\n",
      "\t #22 Paul Simpson\n",
      "\t #27 Daniel Zhang\n",
      "\t Cecilia Wu\n",
      "\t #69 Justin Chen\n",
      "\t Jamie Chen\n",
      "\t Theresa Zhang\n",
      "Point 15\n",
      "\t Joyce Wang\n",
      "\t #22 Paul Simpson\n",
      "\t #27 Daniel Zhang\n",
      "\t Cecilia Wu\n",
      "\t #69 Justin Chen\n",
      "\t Tina Zhu\n",
      "\t #19 Ben Wang\n",
      "{}\n"
     ]
    }
   ],
   "source": [
    "# dictionary with each o point that we scored\n",
    "# keys are the point numbers\n",
    "# values are lists of players on the line that point\n",
    "\n",
    "points_won = o_points_won.loc[:, ['Point']].values\n",
    "\n",
    "o_lines_plus = {}\n",
    "\n",
    "if points_won.size > 0:\n",
    "    for point in np.nditer(points_won):\n",
    "        point = int(point)\n",
    "        for row in players.iterrows():\n",
    "            player_points = row[1][1].split(',')\n",
    "            if str(point) in player_points:\n",
    "                if point in o_lines_plus.keys():\n",
    "                    o_lines_plus[point].append(row[1][0])\n",
    "                else:\n",
    "                    o_lines_plus[point] = [row[1][0]]\n",
    "\n",
    "for point, line in o_lines_plus.items():\n",
    "    print('Point',point)\n",
    "    for player in line:\n",
    "        print('\\t', player)\n",
    "else:\n",
    "    print({})"
   ]
  },
  {
   "cell_type": "code",
   "execution_count": 7,
   "metadata": {
    "collapsed": false,
    "deletable": true,
    "editable": true
   },
   "outputs": [
    {
     "name": "stdout",
     "output_type": "stream",
     "text": [
      "Point 2\n",
      "\t Joyce Wang\n",
      "\t #22 Paul Simpson\n",
      "\t #27 Daniel Zhang\n",
      "\t Cecilia Wu\n",
      "\t #69 Justin Chen\n",
      "\t Jamie Chen\n",
      "\t #19 Ben Wang\n",
      "{}\n"
     ]
    }
   ],
   "source": [
    "# dictionary with each o point that we got scored on\n",
    "# keys are the point numbers\n",
    "# values are lists of players on the line that point\n",
    "\n",
    "points_lost = o_points_lost.loc[:,['Point']].values\n",
    "\n",
    "o_lines_minus = {}\n",
    "\n",
    "if points_lost.size > 0:\n",
    "    for point in np.nditer(points_lost):\n",
    "        point = int(point)\n",
    "        for row in players.iterrows():\n",
    "            player_points = row[1][1].split(',')\n",
    "            if str(point) in player_points:\n",
    "                if point in o_lines_minus.keys():\n",
    "                    o_lines_minus[point].append(row[1][0])\n",
    "                else:\n",
    "                    o_lines_minus[point] = [row[1][0]]\n",
    "                    \n",
    "\n",
    "for point, line in o_lines_minus.items():\n",
    "    print('Point',point)\n",
    "    for player in line:\n",
    "        print('\\t', player)\n",
    "else:\n",
    "    print({})"
   ]
  },
  {
   "cell_type": "code",
   "execution_count": 8,
   "metadata": {
    "collapsed": false,
    "deletable": true,
    "editable": true
   },
   "outputs": [
    {
     "name": "stdout",
     "output_type": "stream",
     "text": [
      "Joyce Wang :\t 6\n",
      "#22 Paul Simpson :\t 6\n",
      "#27 Daniel Zhang :\t 6\n",
      "Cecilia Wu :\t 6\n",
      "#69 Justin Chen :\t 6\n",
      "Jamie Chen :\t 4\n",
      "#19 Ben Wang :\t 2\n",
      "Tina Zhu :\t 3\n",
      "#41 Billy Ni :\t 1\n",
      "Theresa Zhang :\t 2\n"
     ]
    }
   ],
   "source": [
    "# get the number of o points played for each player as a dictionary\n",
    "# keys are player names\n",
    "# values are number of o points played\n",
    "\n",
    "points_played = o_points.loc[:,['Point']].values\n",
    "o_points_played = {}\n",
    "if points_played.size > 0:\n",
    "    for point in np.nditer(points_played):\n",
    "        point = int(point)\n",
    "        for row in players.iterrows():\n",
    "            player_points = row[1][1].split(',')\n",
    "            if str(point) in player_points:\n",
    "                if row[1][0] in o_points_played.keys():\n",
    "                    o_points_played[row[1][0]] += 1\n",
    "                else:\n",
    "                    o_points_played[row[1][0]] = 1\n",
    "                    \n",
    "for player, points in o_points_played.items():\n",
    "    print(player, ':\\t', points)"
   ]
  },
  {
   "cell_type": "code",
   "execution_count": 10,
   "metadata": {
    "collapsed": false,
    "deletable": true,
    "editable": true
   },
   "outputs": [
    {
     "name": "stdout",
     "output_type": "stream",
     "text": [
      "Joyce Wang :\t 0.6666666666666666\n",
      "#22 Paul Simpson :\t 0.6666666666666666\n",
      "#27 Daniel Zhang :\t 0.6666666666666666\n",
      "Cecilia Wu :\t 0.6666666666666666\n",
      "#69 Justin Chen :\t 0.6666666666666666\n",
      "Jamie Chen :\t 0.5\n",
      "Tina Zhu :\t 1.0\n",
      "#41 Billy Ni :\t 1.0\n",
      "Theresa Zhang :\t 1.0\n",
      "#19 Ben Wang :\t 0.0\n"
     ]
    }
   ],
   "source": [
    "# calculate offensive efficiency as a dictionary\n",
    "# keys are player names\n",
    "# values are their effiencies between -1 and 1\n",
    "\n",
    "# create the dictionary and add all the positives\n",
    "o_eff = {}\n",
    "for point, line in o_lines_plus.items():\n",
    "    for player in line:\n",
    "        if player in o_eff.keys():\n",
    "            o_eff[player] += 1\n",
    "        else:\n",
    "            o_eff[player] = 1\n",
    "\n",
    "# add all the minuses\n",
    "for point, line in o_lines_minus.items():\n",
    "    for player in line:\n",
    "        if player in o_eff.keys():\n",
    "            o_eff[player] -= 1\n",
    "        else:\n",
    "            o_eff[player] = -1\n",
    "\n",
    "# divide by the number of o points played\n",
    "for player, eff in o_eff.items():\n",
    "    o_eff[player] = eff/o_points_played[player]\n",
    "    \n",
    "for player, eff in o_eff.items():\n",
    "    print(player, ':\\t', eff)"
   ]
  },
  {
   "cell_type": "code",
   "execution_count": 11,
   "metadata": {
    "collapsed": true,
    "deletable": true,
    "editable": true
   },
   "outputs": [],
   "source": [
    "# find the d_points, the ones we scored on and the ones we got scored on\n",
    "\n",
    "d_points = points_df[points_df['Started on offense?'] == 0]\n",
    "d_points_won = d_points[d_points['Scored?'] == 1]\n",
    "d_points_lost = d_points[d_points['Scored?'] == 0]"
   ]
  },
  {
   "cell_type": "code",
   "execution_count": 12,
   "metadata": {
    "collapsed": false,
    "deletable": true,
    "editable": true
   },
   "outputs": [
    {
     "name": "stdout",
     "output_type": "stream",
     "text": [
      "Point 4\n",
      "\t Joyce Wang\n",
      "\t #22 Paul Simpson\n",
      "\t #27 Daniel Zhang\n",
      "\t Cecilia Wu\n",
      "\t Jamie Chen\n",
      "\t Tina Zhu\n",
      "\t Jack Xia\n",
      "Point 5\n",
      "\t Joyce Wang\n",
      "\t #22 Paul Simpson\n",
      "\t #27 Daniel Zhang\n",
      "\t Cecilia Wu\n",
      "\t Jamie Chen\n",
      "\t Tina Zhu\n",
      "\t #66 Jerry Chen\n",
      "Point 10\n",
      "\t Joyce Wang\n",
      "\t #22 Paul Simpson\n",
      "\t #27 Daniel Zhang\n",
      "\t Cecilia Wu\n",
      "\t #69 Justin Chen\n",
      "\t Jamie Chen\n",
      "\t Theresa Zhang\n",
      "Point 11\n",
      "\t Joyce Wang\n",
      "\t #22 Paul Simpson\n",
      "\t #27 Daniel Zhang\n",
      "\t Cecilia Wu\n",
      "\t Tina Zhu\n",
      "\t #19 Ben Wang\n",
      "\t Alex Chen\n",
      "Point 16\n",
      "\t Joyce Wang\n",
      "\t #22 Paul Simpson\n",
      "\t #27 Daniel Zhang\n",
      "\t Cecilia Wu\n",
      "\t #69 Justin Chen\n",
      "\t Tina Zhu\n",
      "\t #19 Ben Wang\n",
      "{}\n"
     ]
    }
   ],
   "source": [
    "# dictionary with each d point that we scored\n",
    "# keys are the point numbers\n",
    "# values are lists of players on the line that point\n",
    "\n",
    "points_won = d_points_won.loc[:, ['Point']].values\n",
    "\n",
    "d_lines_plus = {}\n",
    "\n",
    "if points_won.size > 0:\n",
    "    for point in np.nditer(points_won):\n",
    "        point = int(point)\n",
    "        for row in players.iterrows():\n",
    "            player_points = row[1][1].split(',')\n",
    "            if str(point) in player_points:\n",
    "                if point in d_lines_plus.keys():\n",
    "                    d_lines_plus[point].append(row[1][0])\n",
    "                else:\n",
    "                    d_lines_plus[point] = [row[1][0]]\n",
    "\n",
    "for point, line in d_lines_plus.items():\n",
    "    print('Point',point)\n",
    "    for player in line:\n",
    "        print('\\t', player)\n",
    "else:\n",
    "    print({})"
   ]
  },
  {
   "cell_type": "code",
   "execution_count": 13,
   "metadata": {
    "collapsed": false,
    "deletable": true,
    "editable": true
   },
   "outputs": [
    {
     "name": "stdout",
     "output_type": "stream",
     "text": [
      "Point 1\n",
      "\t Joyce Wang\n",
      "\t #22 Paul Simpson\n",
      "\t #27 Daniel Zhang\n",
      "\t Cecilia Wu\n",
      "\t #69 Justin Chen\n",
      "\t Jamie Chen\n",
      "\t Julie Luo\n",
      "Point 6\n",
      "\t Joyce Wang\n",
      "\t #22 Paul Simpson\n",
      "\t #27 Daniel Zhang\n",
      "\t Cecilia Wu\n",
      "\t Jamie Chen\n",
      "\t Tina Zhu\n",
      "\t Alex Chen\n",
      "Point 8\n",
      "\t Joyce Wang\n",
      "\t #22 Paul Simpson\n",
      "\t #27 Daniel Zhang\n",
      "\t Cecilia Wu\n",
      "\t #69 Justin Chen\n",
      "\t Tina Zhu\n",
      "\t Oscar Yao\n",
      "Point 12\n",
      "\t Joyce Wang\n",
      "\t #22 Paul Simpson\n",
      "\t #27 Daniel Zhang\n",
      "\t Cecilia Wu\n",
      "\t #69 Justin Chen\n",
      "\t Tina Zhu\n",
      "\t #66 Jerry Chen\n",
      "Point 14\n",
      "\t Joyce Wang\n",
      "\t #22 Paul Simpson\n",
      "\t #27 Daniel Zhang\n",
      "\t Cecilia Wu\n",
      "\t #69 Justin Chen\n",
      "\t Jamie Chen\n",
      "\t Theresa Zhang\n",
      "{}\n"
     ]
    }
   ],
   "source": [
    "# dictionary with each d point that we got scored on\n",
    "# keys are the point numbers\n",
    "# values are lists of players on the line that point\n",
    "\n",
    "points_lost = d_points_lost.loc[:,['Point']].values\n",
    "\n",
    "d_lines_minus = {}\n",
    "\n",
    "if points_lost.size > 0:\n",
    "    for point in np.nditer(points_lost):\n",
    "        point = int(point)\n",
    "        for row in players.iterrows():\n",
    "            player_points = row[1][1].split(',')\n",
    "            if str(point) in player_points:\n",
    "                if point in d_lines_minus.keys():\n",
    "                    d_lines_minus[point].append(row[1][0])\n",
    "                else:\n",
    "                    d_lines_minus[point] = [row[1][0]]\n",
    "                    \n",
    "\n",
    "for point, line in d_lines_minus.items():\n",
    "    print('Point',point)\n",
    "    for player in line:\n",
    "        print('\\t', player)\n",
    "else:\n",
    "    print({})"
   ]
  },
  {
   "cell_type": "code",
   "execution_count": 14,
   "metadata": {
    "collapsed": false,
    "deletable": true,
    "editable": true
   },
   "outputs": [
    {
     "name": "stdout",
     "output_type": "stream",
     "text": [
      "Joyce Wang :\t 10\n",
      "#22 Paul Simpson :\t 10\n",
      "#27 Daniel Zhang :\t 10\n",
      "Cecilia Wu :\t 10\n",
      "#69 Justin Chen :\t 6\n",
      "Jamie Chen :\t 6\n",
      "Julie Luo :\t 1\n",
      "Tina Zhu :\t 7\n",
      "Jack Xia :\t 1\n",
      "#66 Jerry Chen :\t 2\n",
      "Alex Chen :\t 2\n",
      "Oscar Yao :\t 1\n",
      "Theresa Zhang :\t 2\n",
      "#19 Ben Wang :\t 2\n"
     ]
    }
   ],
   "source": [
    "# get the number of d points played for each player as a dictionary\n",
    "# keys are player names\n",
    "# values are number of o points played\n",
    "\n",
    "points_played = d_points.loc[:,['Point']].values\n",
    "d_points_played = {}\n",
    "if points_played.size > 0:\n",
    "    for point in np.nditer(points_played):\n",
    "        point = int(point)\n",
    "        for row in players.iterrows():\n",
    "            player_points = row[1][1].split(',')\n",
    "            if str(point) in player_points:\n",
    "                if row[1][0] in d_points_played.keys():\n",
    "                    d_points_played[row[1][0]] += 1\n",
    "                else:\n",
    "                    d_points_played[row[1][0]] = 1\n",
    "                    \n",
    "for player, points in d_points_played.items():\n",
    "    print(player, ':\\t', points)"
   ]
  },
  {
   "cell_type": "code",
   "execution_count": 15,
   "metadata": {
    "collapsed": false,
    "deletable": true,
    "editable": true
   },
   "outputs": [
    {
     "name": "stdout",
     "output_type": "stream",
     "text": [
      "Joyce Wang :\t 0.0\n",
      "#22 Paul Simpson :\t 0.0\n",
      "#27 Daniel Zhang :\t 0.0\n",
      "Cecilia Wu :\t 0.0\n",
      "Jamie Chen :\t 0.0\n",
      "Tina Zhu :\t 0.14285714285714285\n",
      "Jack Xia :\t 1.0\n",
      "#66 Jerry Chen :\t 0.0\n",
      "#69 Justin Chen :\t -0.3333333333333333\n",
      "Theresa Zhang :\t 0.0\n",
      "#19 Ben Wang :\t 1.0\n",
      "Alex Chen :\t 0.0\n",
      "Julie Luo :\t -1.0\n",
      "Oscar Yao :\t -1.0\n"
     ]
    }
   ],
   "source": [
    "# calculate defensive efficiency as a dictionary\n",
    "# keys are player names\n",
    "# values are their effiencies between -1 and 1\n",
    "\n",
    "# create the dictionary and add all the positives\n",
    "\n",
    "d_eff = {}\n",
    "for point, line in d_lines_plus.items():\n",
    "    for player in line:\n",
    "        if player in d_eff.keys():\n",
    "            d_eff[player] += 1\n",
    "        else:\n",
    "            d_eff[player] = 1\n",
    "\n",
    "# subtract all the negatives\n",
    "for point, line in d_lines_minus.items():\n",
    "    for player in line:\n",
    "        if player in d_eff.keys():\n",
    "            d_eff[player] -= 1\n",
    "        else:\n",
    "            d_eff[player] = -1\n",
    "\n",
    "# divide by the number of points played\n",
    "for player, eff in d_eff.items():\n",
    "    d_eff[player] = eff/d_points_played[player]\n",
    "    \n",
    "for player, eff in d_eff.items():\n",
    "    print(player, ':\\t', eff)"
   ]
  }
 ],
 "metadata": {
  "kernelspec": {
   "display_name": "Python 3",
   "language": "python",
   "name": "python3"
  },
  "language_info": {
   "codemirror_mode": {
    "name": "ipython",
    "version": 3
   },
   "file_extension": ".py",
   "mimetype": "text/x-python",
   "name": "python",
   "nbconvert_exporter": "python",
   "pygments_lexer": "ipython3",
   "version": "3.4.2"
  }
 },
 "nbformat": 4,
 "nbformat_minor": 2
}
